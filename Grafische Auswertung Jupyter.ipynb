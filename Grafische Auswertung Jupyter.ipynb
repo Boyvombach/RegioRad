{
 "cells": [
  {
   "cell_type": "code",
   "execution_count": null,
   "metadata": {},
   "outputs": [],
   "source": [
    "import pandas as pd\n",
    "import matplotlib.pyplot as plt\n",
    "import matplotlib.dates as mdates\n",
    "\n",
    "# Pfad zu den Excel-Tabellen\n",
    "data_excel_file_path = 'station_data_analysis.xlsx'\n",
    "stations_excel_file_path = 'MobiData API - ID.xlsx'\n",
    "\n",
    "# Lade die Stationsnamen und IDs\n",
    "stations_data = pd.read_excel(stations_excel_file_path, usecols=\"B:C\", header=2)\n",
    "id_to_name = pd.Series(stations_data['Name / Beschreibung'].values, index=stations_data['ID']).to_dict()\n",
    "\n",
    "def visualize_station_data(station_id_requested):\n",
    "    data = pd.read_excel(data_excel_file_path, header=1)\n",
    "    data['timestamp'] = pd.to_datetime(data['timestamp'])\n",
    "    data.sort_values(by='timestamp', inplace=True)\n",
    "\n",
    "    plt.figure(figsize=(12, 8))\n",
    "    plt.gca().xaxis.set_major_formatter(mdates.DateFormatter('%Y-%m-%d %H:%M'))\n",
    "    plt.gca().xaxis.set_major_locator(mdates.HourLocator(interval=1))\n",
    "    plt.gcf().autofmt_xdate()\n",
    "\n",
    "    if station_id_requested.lower() == \"alle\":\n",
    "        for station_id in data['station_id'].unique():\n",
    "            station_name = id_to_name.get(station_id, station_id)\n",
    "            station_data = data[data['station_id'] == station_id]\n",
    "            plt.plot(station_data['timestamp'], station_data['num_bikes_available'], label=station_name)\n",
    "    else:\n",
    "        station_name = id_to_name.get(station_id_requested, station_id_requested)\n",
    "        station_data = data[data['station_id'] == station_id_requested]\n",
    "        if station_data.empty:\n",
    "            print(f\"Keine Daten für {station_name} gefunden.\")\n",
    "            return\n",
    "        plt.plot(station_data['timestamp'], station_data['num_bikes_available'], label=station_name)\n",
    "\n",
    "    plt.title('Verfügbare Fahrräder an Stationen über Zeit')\n",
    "    plt.xlabel('Timestamp')\n",
    "    plt.ylabel('Verfügbare Fahrräder')\n",
    "    plt.legend()\n",
    "    plt.tight_layout()\n",
    "    plt.show()\n",
    "\n",
    "station_id_input = input(\"Geben Sie die station_id ein (oder 'alle' für alle Stationen): \")\n",
    "visualize_station_data(station_id_input)\n"
   ]
  }
 ],
 "metadata": {
  "language_info": {
   "name": "python"
  }
 },
 "nbformat": 4,
 "nbformat_minor": 2
}
